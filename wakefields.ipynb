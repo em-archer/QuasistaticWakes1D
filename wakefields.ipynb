{
 "cells": [
  {
   "cell_type": "code",
   "execution_count": null,
   "metadata": {},
   "outputs": [
    {
     "data": {
      "application/vnd.jupyter.widget-view+json": {
       "model_id": "135881787aba4761adc354f52401ff80",
       "version_major": 2,
       "version_minor": 0
      },
      "text/plain": [
       "interactive(children=(IntSlider(value=15, description='omega0', max=50, min=15), FloatSlider(value=1.0, descri…"
      ]
     },
     "metadata": {},
     "output_type": "display_data"
    },
    {
     "data": {
      "text/html": [
       "<script>\n",
       "        code_show = true; \n",
       "        function code_toggle() {\n",
       "         if (code_show){\n",
       "         $('div.input').hide();\n",
       "         } else {\n",
       "         $('div.input').show();\n",
       "         }\n",
       "         code_show = !code_show\n",
       "        } \n",
       "        $( document ).ready(code_toggle);\n",
       "    </script>\n",
       "    <form action=\"javascript:code_toggle()\"><input type=\"submit\" value=\"Toggle Code\"></form>"
      ],
      "text/plain": [
       "<IPython.core.display.HTML object>"
      ]
     },
     "metadata": {},
     "output_type": "display_data"
    }
   ],
   "source": [
    "import numpy as np\n",
    "import plotly.express as px\n",
    "import plotly.graph_objects as go\n",
    "\n",
    "# Define constants\n",
    "c = 2.998e8\n",
    "e = 1.602e-19\n",
    "m_e = 9.109e-31\n",
    "nm = 1e-9\n",
    "\n",
    "# Generate plasma parameters\n",
    "def generate_parameters(n_0):\n",
    "    k_p = np.sqrt(4.0 * np.pi * e**2 * n_0 * 1e6 / (m_e * c**2))\n",
    "    omega_p = np.sqrt(4.0 * np.pi * e**2 * n_0 * 1e6 / m_e)\n",
    "    lambda_p = 2.0 * np.pi * c / omega_p\n",
    "    E0 = c * m_e * omega_p / e\n",
    "    return k_p, omega_p, lambda_p, E0\n",
    "\n",
    "# Define the wakefield plotting function\n",
    "def plot_wakefield(omega0=15, a01=1, tau1=1, tau_delay1=0, a02=0.5, tau2=1, tau_delay2=1):\n",
    "    n_0 = 1.0e17\n",
    "    k_p, omega_p, lambda_p, E0 = generate_parameters(n_0)\n",
    "    tau_delay1 *= 2.0 * np.pi\n",
    "    tau_delay2 *= 2.0 * np.pi\n",
    "\n",
    "    # Calculate coordinates\n",
    "    xi = np.linspace(-lambda_p, 4.0 * lambda_p, 1000)\n",
    "    psi = k_p * xi\n",
    "    psi_plot = -psi / (2.0 * np.pi) + k_p * tau_delay1 / (2.0 * np.pi)\n",
    "\n",
    "    # Define laser vector potentials\n",
    "    def a_1(psi):\n",
    "        return np.real(\n",
    "            a01\n",
    "            * np.exp(-2.0 * np.log(2) * ((psi - tau_delay1) ** 2) / (tau1**2))\n",
    "            * np.exp(-1j * omega0 * psi)\n",
    "        )\n",
    "\n",
    "    def a_2(psi):\n",
    "        return np.real(\n",
    "            a02\n",
    "            * np.exp(-2.0 * np.log(2) * ((psi - (tau_delay1 + tau_delay2)) ** 2) / (tau2**2))\n",
    "            * np.exp(-1j * omega0 * psi)\n",
    "        )\n",
    "\n",
    "    # Define wake potential\n",
    "    phi = np.sin(psi * omega0 / 15) * np.exp(-a01 * psi / lambda_p)\n",
    "\n",
    "    # Create subplots using Plotly\n",
    "    fig = go.Figure()\n",
    "\n",
    "    # Plot potential\n",
    "    fig.add_trace(go.Scatter(x=psi_plot, y=phi, mode=\"lines\", name=\"Potential (phi)\", line=dict(color=\"blue\")))\n",
    "\n",
    "    # Plot laser vector potentials\n",
    "    fig.add_trace(go.Scatter(x=psi_plot, y=a_1(psi), mode=\"lines\", name=\"a_1\", line=dict(color=\"orange\", dash=\"dash\")))\n",
    "    fig.add_trace(go.Scatter(x=psi_plot, y=a_2(psi), mode=\"lines\", name=\"a_2\", line=dict(color=\"green\", dash=\"dash\")))\n",
    "\n",
    "    # Update layout\n",
    "    fig.update_layout(\n",
    "        title=\"Wakefield Simulation\",\n",
    "        xaxis_title=\"xi / lambda_p\",\n",
    "        yaxis_title=\"Field Values\",\n",
    "        legend_title=\"Legend\",\n",
    "        template=\"plotly_white\",\n",
    "    )\n",
    "\n",
    "    # Save to HTML\n",
    "    fig.write_html(\"wakefield_simulation.html\")\n",
    "    print(\"Plot saved as wakefield_simulation.html\")\n",
    "\n",
    "# Call the function to generate the plot\n",
    "plot_wakefield()"
   ]
  },
  {
   "cell_type": "code",
   "execution_count": null,
   "metadata": {},
   "outputs": [],
   "source": []
  }
 ],
 "metadata": {
  "kernelspec": {
   "display_name": "Python 3 (ipykernel)",
   "language": "python",
   "name": "python3"
  },
  "language_info": {
   "codemirror_mode": {
    "name": "ipython",
    "version": 3
   },
   "file_extension": ".py",
   "mimetype": "text/x-python",
   "name": "python",
   "nbconvert_exporter": "python",
   "pygments_lexer": "ipython3",
   "version": "3.11.7"
  }
 },
 "nbformat": 4,
 "nbformat_minor": 4
}
